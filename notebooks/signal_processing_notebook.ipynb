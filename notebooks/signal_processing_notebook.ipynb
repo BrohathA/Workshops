{
 "cells": [
  {
   "cell_type": "markdown",
   "metadata": {},
   "source": [
    "# Intro to Signal Processing"
   ]
  },
  {
   "cell_type": "markdown",
   "metadata": {},
   "source": [
    "Here, we have EEG data from the frontal lobe of a person meditating using the Muse headband. Try graphing the data; what do you notice?"
   ]
  },
  {
   "cell_type": "markdown",
   "metadata": {},
   "source": [
    "The signal looks really noisy! This is because there are many sources of noise that affect the EEG reading we collected, from our skin not being a good conductor to the electric fields of literally every electrical appliance in the room! Let's try cleaning up the data!"
   ]
  },
  {
   "cell_type": "markdown",
   "metadata": {},
   "source": [
    "Note that the EEG we are interested in analyzing rarely goes above 40Hz, so we can just remove any signal above 40Hz! Try doing that below:"
   ]
  },
  {
   "cell_type": "code",
   "execution_count": null,
   "metadata": {},
   "outputs": [],
   "source": []
  }
 ],
 "metadata": {
  "kernelspec": {
   "display_name": "Python 3",
   "language": "python",
   "name": "python3"
  }
 },
 "nbformat": 4,
 "nbformat_minor": 2
}
