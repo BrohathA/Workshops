{
 "cells": [
  {
   "cell_type": "markdown",
   "metadata": {},
   "source": [
    "# Intro to Signal Processing"
   ]
  },
  {
   "cell_type": "code",
   "execution_count": null,
   "metadata": {
    "collapsed": true
   },
   "outputs": [],
   "source": [
    "%load_ext autoreload\n",
    "%autoreload 2\n",
    "\n",
    "import csv\n",
    "from biosignals.eog import EOG\n",
    "import matplotlib.pyplot as plt\n",
    "import numpy as np"
   ]
  },
  {
   "cell_type": "markdown",
   "metadata": {},
   "source": [
    "Here, we have EEG data from the frontal lobe of a person meditating using the Muse headband. Try graphing the data; what do you notice?"
   ]
  },
  {
   "cell_type": "code",
   "execution_count": null,
   "metadata": {
    "collapsed": true
   },
   "outputs": [],
   "source": [
    "# Saving Muse EEG values in list: one for each electrode\n",
    "l_ear_arr = []\n",
    "l_forehead_arr = []\n",
    "r_forehead_arr = []\n",
    "r_ear_arr = []\n",
    "\n",
    "with open('./data/stare_blink.csv') as csvfile:\n",
    "    reader = csv.DictReader(csvfile)\n",
    "    for row in reader:\n",
    "        l_ear = float(row['l_ear'])\n",
    "        l_forehead = float(row['l_forehead'])\n",
    "        r_forehead = float(row['r_forehead'])\n",
    "        r_ear = float(row['r_ear'])\n",
    "        \n",
    "        l_ear_arr.append(l_ear)\n",
    "        l_forehead_arr.append(l_forehead)\n",
    "        r_forehead_arr.append(r_forehead)\n",
    "        r_ear_arr.append(r_ear)"
   ]
  },
  {
   "cell_type": "markdown",
   "metadata": {},
   "source": [
    "The signal looks really noisy! This is because there are many sources of noise that affect the EEG reading we collected, from our skin not being a good conductor to the electric fields of literally every electrical appliance in the room! Let's try cleaning up the data!"
   ]
  },
  {
   "cell_type": "markdown",
   "metadata": {},
   "source": [
    "Note that the EEG we are interested in analyzing rarely goes above 40Hz, so we can just remove any signal above 40Hz! Try doing that below:"
   ]
  },
  {
   "cell_type": "markdown",
   "metadata": {},
   "source": [
    "That looks pretty good, but we can do better! Note that the 0Hz component is the same as a sine wave with a period of 1/0 seconds ... pretty much a straight line! Essentially the 0Hz component shifts the graph up and down. We really don't care about that either ... so let's try removing it!"
   ]
  },
  {
   "cell_type": "markdown",
   "metadata": {},
   "source": []
  }
 ],
 "metadata": {
  "kernelspec": {
   "display_name": "Python 3",
   "language": "python",
   "name": "python3"
  },
  "language_info": {
   "codemirror_mode": {
    "name": "ipython",
    "version": 3
   },
   "file_extension": ".py",
   "mimetype": "text/x-python",
   "name": "python",
   "nbconvert_exporter": "python",
   "pygments_lexer": "ipython3",
   "version": "3.6.6"
  }
 },
 "nbformat": 4,
 "nbformat_minor": 2
}
